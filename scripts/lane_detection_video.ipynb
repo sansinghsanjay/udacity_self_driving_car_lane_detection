{
 "cells": [
  {
   "cell_type": "code",
   "execution_count": 1,
   "metadata": {
    "collapsed": true
   },
   "outputs": [],
   "source": [
    "# libraries\n",
    "import numpy as np\n",
    "from moviepy.editor import VideoFileClip\n",
    "from IPython.display import HTML\n",
    "import cv2"
   ]
  },
  {
   "cell_type": "code",
   "execution_count": 2,
   "metadata": {
    "collapsed": true
   },
   "outputs": [],
   "source": [
    "# converting color image into gray image\n",
    "def grayscale(image):\n",
    "    gray = cv2.cvtColor(image,cv2.COLOR_RGB2GRAY)\n",
    "    return gray"
   ]
  },
  {
   "cell_type": "code",
   "execution_count": 3,
   "metadata": {
    "collapsed": true
   },
   "outputs": [],
   "source": [
    "# applying gaussian-blur\n",
    "def gaussian_blur(image, kernel_size = 5):\n",
    "    blur_gray = cv2.GaussianBlur(image,(kernel_size, kernel_size),0)\n",
    "    return blur_gray"
   ]
  },
  {
   "cell_type": "code",
   "execution_count": 4,
   "metadata": {
    "collapsed": true
   },
   "outputs": [],
   "source": [
    "# applying canny edge detection\n",
    "def canny(image, low_threshold=50, high_threshold=150):\n",
    "    edges = cv2.Canny(image, low_threshold, high_threshold)\n",
    "    return edges"
   ]
  },
  {
   "cell_type": "code",
   "execution_count": 5,
   "metadata": {
    "collapsed": true
   },
   "outputs": [],
   "source": [
    "# getting region of interest from image\n",
    "def region_of_interest(edges):\n",
    "    # creating a mask\n",
    "    mask = np.zeros_like(edges)\n",
    "    ignore_mask_color = 255\n",
    "    imshape = edges.shape[:2]\n",
    "    # four sided polygon\n",
    "    vertices = np.array([[(150,imshape[0]),(460, 320), (540, 320), (860, imshape[0])]], dtype = np.int32)\n",
    "    cv2.fillPoly(mask, vertices, ignore_mask_color)\n",
    "    # masking edges\n",
    "    masked_edges = cv2.bitwise_and(edges, mask)\n",
    "    return masked_edges"
   ]
  },
  {
   "cell_type": "code",
   "execution_count": 6,
   "metadata": {
    "collapsed": true
   },
   "outputs": [],
   "source": [
    "# applying Hough transform\n",
    "def hough_lines(masked_edges):\n",
    "    # parameters for hough\n",
    "    rho = 1 # distance resolution in pixels of the Hough grid\n",
    "    theta = np.pi/180 # angular resolution in radians of the Hough grid\n",
    "    threshold = 20    # minimum number of votes (intersections in Hough grid cell)\n",
    "    min_line_length = 20 #minimum number of pixels making up a line\n",
    "    max_line_gap = 300    # maximum gap in pixels between connectable line segments\n",
    "    # applying hough\n",
    "    lines = cv2.HoughLinesP(masked_edges, rho, theta, threshold, np.array([]),min_line_length, max_line_gap)\n",
    "    return lines"
   ]
  },
  {
   "cell_type": "code",
   "execution_count": 7,
   "metadata": {
    "collapsed": true
   },
   "outputs": [],
   "source": [
    "# interpolating and drawing lane lines\n",
    "def draw_lines(image, lines):\n",
    "    left_lines = [] # in form of (slope, intercept)\n",
    "    left_weights = [] # have 'length'\n",
    "    right_lines = [] # in form of (slope, intercept)\n",
    "    right_weights = [] # have 'length'\n",
    "    for line in lines:\n",
    "        for x1, y1, x2, y2 in line:\n",
    "            # vertical lines have infinite slope, so ignore them\n",
    "            if x2==x1:\n",
    "                continue \n",
    "            slope = (y2-y1)/(x2-x1)\n",
    "            intercept = y1 - slope*x1\n",
    "            length = np.sqrt((y2-y1)**2+(x2-x1)**2)\n",
    "            # negative slope implies left lane else right lane\n",
    "            if slope < 0: \n",
    "                left_lines.append((slope, intercept))\n",
    "                left_weights.append((length))\n",
    "            else:\n",
    "                right_lines.append((slope, intercept))\n",
    "                right_weights.append((length))\n",
    "    # elongating longer lines\n",
    "    left_lane  = np.dot(left_weights,  left_lines) /np.sum(left_weights)  if len(left_weights) >0 else None\n",
    "    right_lane = np.dot(right_weights, right_lines)/np.sum(right_weights) if len(right_weights)>0 else None\n",
    "    # mask to draw lines\n",
    "    line_image = np.copy(image)*0\n",
    "    # converting lines into point coordinates\n",
    "    y1 = image.shape[0]\n",
    "    y2 = y1 * 0.6\n",
    "    left_line = make_line_points(y1, y2, left_lane)\n",
    "    right_line = make_line_points(y1, y2, right_lane)\n",
    "    if(left_line is not None):\n",
    "        cv2.line(line_image,(left_line[0][0],left_line[0][1]),(left_line[1][0],left_line[1][1]),(255,0,0),10)\n",
    "    if(right_line is not None):\n",
    "        cv2.line(line_image,(right_line[0][0],right_line[0][1]),(right_line[1][0],right_line[1][1]),(255,0,0),10)\n",
    "    return line_image"
   ]
  },
  {
   "cell_type": "code",
   "execution_count": 8,
   "metadata": {
    "collapsed": true
   },
   "outputs": [],
   "source": [
    "# weighing marked lanes on image\n",
    "def weighted_image(image, edges, line_image):\n",
    "    # Create a \"color\" binary image to combine with line image\n",
    "    color_edges = np.dstack((edges, edges, edges))\n",
    "    # Draw the lines on the edge image\n",
    "    lines_edges = cv2.addWeighted(image, 1.0, line_image, 1, 0)\n",
    "    return lines_edges"
   ]
  },
  {
   "cell_type": "code",
   "execution_count": 9,
   "metadata": {
    "collapsed": true
   },
   "outputs": [],
   "source": [
    "# convert a line represented in slope and intercept into pixel points\n",
    "def make_line_points(y1, y2, line):\n",
    "    if line is None:\n",
    "        return None\n",
    "    slope, intercept = line\n",
    "    # make sure everything is integer as cv2.line requires it\n",
    "    x1 = int((y1 - intercept)/slope)\n",
    "    x2 = int((y2 - intercept)/slope)\n",
    "    y1 = int(y1)\n",
    "    y2 = int(y2)\n",
    "    return ((x1, y1), (x2, y2))"
   ]
  },
  {
   "cell_type": "code",
   "execution_count": 10,
   "metadata": {
    "collapsed": true
   },
   "outputs": [],
   "source": [
    "# main function\n",
    "def main_process(image):\n",
    "    # getting gray image\n",
    "    gray = grayscale(image)\n",
    "    # applying gaussian blur\n",
    "    blur_gray = gaussian_blur(gray)\n",
    "    # applying canny edge detection\n",
    "    edges = canny(blur_gray)\n",
    "    # applying region of interest\n",
    "    masked_edges = region_of_interest(edges)\n",
    "    # applying hough\n",
    "    lines = hough_lines(masked_edges)\n",
    "    # drawing lines on image\n",
    "    line_image = draw_lines(image, lines)\n",
    "    # weighing marked lanes on image\n",
    "    result = weighted_image(image, edges, line_image)\n",
    "    return result"
   ]
  },
  {
   "cell_type": "code",
   "execution_count": 11,
   "metadata": {},
   "outputs": [
    {
     "name": "stdout",
     "output_type": "stream",
     "text": [
      "[MoviePy] >>>> Building video ./output_solidYellowLeft.mp4\n",
      "[MoviePy] Writing video ./output_solidYellowLeft.mp4\n"
     ]
    },
    {
     "name": "stderr",
     "output_type": "stream",
     "text": [
      "100%|█████████▉| 681/682 [00:23<00:00, 28.69it/s]\n"
     ]
    },
    {
     "name": "stdout",
     "output_type": "stream",
     "text": [
      "[MoviePy] Done.\n",
      "[MoviePy] >>>> Video ready: ./output_solidYellowLeft.mp4 \n",
      "\n",
      "[MoviePy] >>>> Building video ./output_solidWhiteRight.mp4\n",
      "[MoviePy] Writing video ./output_solidWhiteRight.mp4\n"
     ]
    },
    {
     "name": "stderr",
     "output_type": "stream",
     "text": [
      "100%|█████████▉| 221/222 [00:07<00:00, 30.15it/s]\n"
     ]
    },
    {
     "name": "stdout",
     "output_type": "stream",
     "text": [
      "[MoviePy] Done.\n",
      "[MoviePy] >>>> Video ready: ./output_solidWhiteRight.mp4 \n",
      "\n"
     ]
    }
   ],
   "source": [
    "# reading video clip\n",
    "clip = VideoFileClip(\"./test_videos/solidYellowLeft.mp4\")\n",
    "# processing frames of video by passing them in \"main_process\"\n",
    "processed = clip.fl_image(main_process)\n",
    "# saving output\n",
    "processed.write_videofile(\"./output_solidYellowLeft.mp4\", audio=False)\n",
    "# reading second video clip\n",
    "clip = VideoFileClip(\"./test_videos/solidWhiteRight.mp4\")\n",
    "# processing frames of video by passing them in \"main_process\"\n",
    "processed = clip.fl_image(main_process)\n",
    "# saving output\n",
    "processed.write_videofile(\"./output_solidWhiteRight.mp4\", audio=False)"
   ]
  },
  {
   "cell_type": "code",
   "execution_count": null,
   "metadata": {
    "collapsed": true
   },
   "outputs": [],
   "source": []
  }
 ],
 "metadata": {
  "kernelspec": {
   "display_name": "Python 3",
   "language": "python",
   "name": "python3"
  },
  "language_info": {
   "codemirror_mode": {
    "name": "ipython",
    "version": 3
   },
   "file_extension": ".py",
   "mimetype": "text/x-python",
   "name": "python",
   "nbconvert_exporter": "python",
   "pygments_lexer": "ipython3",
   "version": "3.5.2"
  }
 },
 "nbformat": 4,
 "nbformat_minor": 2
}
